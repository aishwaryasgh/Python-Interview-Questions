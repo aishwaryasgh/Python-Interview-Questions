{
 "cells": [
  {
   "cell_type": "markdown",
   "id": "e9455005",
   "metadata": {},
   "source": [
    "#  Key Features of Python\n",
    "\n",
    "This notebook highlights the core features that make Python one of the most popular programming languages today. It includes:\n",
    "- Key features\n",
    "- Common interview questions and answers\n",
    "- Code examples\n"
   ]
  },
  {
   "cell_type": "markdown",
   "id": "018b572f",
   "metadata": {},
   "source": [
    "## Key Features of Python\n",
    "\n",
    "1. **Easy to Learn and Use**: Python has a clean and straightforward syntax.\n",
    "2. **Interpreted Language**: Executes code line by line.\n",
    "3. **Dynamically Typed**: No need to declare variable types.\n",
    "4. **Object-Oriented and Functional**: Supports both programming paradigms.\n",
    "5. **Extensive Standard Library**: Built-in modules for many tasks.\n",
    "6. **Portable**: Works on Windows, Linux, Mac without change.\n",
    "7. **Large Community**: Active community and third-party support.\n",
    "8. **Versatile**: Used in Web Dev, Data Science, AI, Automation, etc.\n"
   ]
  },
  {
   "cell_type": "markdown",
   "id": "6df1ef59",
   "metadata": {},
   "source": [
    "##  Python Interview Questions & Answers\n",
    "\n",
    "**Q1: What makes Python an interpreted language?**  \n",
    "A: Python code is executed line by line at runtime, not compiled in advance.\n",
    "\n",
    "**Q2: Explain dynamic typing in Python.**  \n",
    "A: Variables do not need an explicit type declaration; type is determined at runtime.\n",
    "\n",
    "**Q3: How is memory managed in Python?**  \n",
    "A: Python uses automatic garbage collection and maintains memory in a private heap.\n",
    "\n",
    "**Q4: What are Python's key programming paradigms?**  \n",
    "A: Object-oriented, functional, imperative, and procedural.\n",
    "\n",
    "**Q5: What are Python's popular applications?**  \n",
    "A: Data Science, Web Development, Automation, AI/ML, Game Development, etc.\n"
   ]
  },
  {
   "cell_type": "code",
   "execution_count": null,
   "id": "772e4bcc",
   "metadata": {},
   "outputs": [],
   "source": [
    "# Example 1: Dynamic Typing\n",
    "x = 10\n",
    "print(\"x is:\", x)\n",
    "x = \"Hello\"\n",
    "print(\"Now x is:\", x)\n",
    "\n",
    "# Example 2: Object-Oriented Feature\n",
    "class Dog:\n",
    "    def __init__(self, name):\n",
    "        self.name = name\n",
    "    def bark(self):\n",
    "        print(f\"{self.name} says woof!\")\n",
    "\n",
    "d = Dog(\"Bruno\")\n",
    "d.bark()\n",
    "\n",
    "# Example 3: Using Standard Library\n",
    "import math\n",
    "print(\"Square root of 16 is:\", math.sqrt(16))\n"
   ]
  }
 ],
 "metadata": {
  "kernelspec": {
   "display_name": "Python [conda env:base] *",
   "language": "python",
   "name": "conda-base-py"
  },
  "language_info": {
   "codemirror_mode": {
    "name": "ipython",
    "version": 3
   },
   "file_extension": ".py",
   "mimetype": "text/x-python",
   "name": "python",
   "nbconvert_exporter": "python",
   "pygments_lexer": "ipython3",
   "version": "3.12.7"
  }
 },
 "nbformat": 4,
 "nbformat_minor": 5
}
