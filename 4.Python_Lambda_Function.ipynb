{
 "cells": [
  {
   "cell_type": "markdown",
   "id": "0afc2ee9",
   "metadata": {},
   "source": [
    "# ⚡ Python Lambda Functions: Interview Q&A and Programming Examples\n",
    "\n",
    "This notebook provides an overview of **lambda functions** in Python, including:\n",
    "- Explanation and use cases\n",
    "- Common interview questions and answers\n",
    "- Practical programming examples\n"
   ]
  },
  {
   "cell_type": "markdown",
   "id": "c7a81f04",
   "metadata": {},
   "source": [
    "## 🔍 What is a Lambda Function?\n",
    "\n",
    "- A **lambda** function is a small anonymous function.\n",
    "- It can take any number of arguments but has only one expression.\n",
    "- Syntax: `lambda arguments: expression`\n",
    "\n",
    "### ✅ Why use lambda functions?\n",
    "- Used for short, throwaway functions\n",
    "- Commonly used with functions like `map()`, `filter()`, and `sorted()`\n"
   ]
  },
  {
   "cell_type": "markdown",
   "id": "3fa7cf1c",
   "metadata": {},
   "source": [
    "## Lambda Function Interview Questions & Answers\n",
    "\n",
    "**Q1: What is a lambda function in Python?**  \n",
    "A: A lambda function is an anonymous function defined using the `lambda` keyword. It can take any number of arguments but only one expression.\n",
    "\n",
    "**Q2: Can lambda functions have multiple expressions?**  \n",
    "A: No. Lambda functions are limited to a single expression.\n",
    "\n",
    "**Q3: Where are lambda functions typically used?**  \n",
    "A: Lambda functions are used in places where short, anonymous functions are required — like inside `map()`, `filter()`, and `sorted()`.\n",
    "\n",
    "**Q4: How does a lambda function differ from a normal function?**  \n",
    "A: Lambda is anonymous, concise, and limited to a single expression. Normal functions use `def` and can contain multiple statements.\n",
    "\n",
    "**Q5: Can a lambda function call other functions?**  \n",
    "A: Yes, as long as it stays within a single expression.\n"
   ]
  },
  {
   "cell_type": "code",
   "execution_count": null,
   "id": "32595f4f",
   "metadata": {},
   "outputs": [],
   "source": [
    "# Basic lambda function\n",
    "add = lambda x, y: x + y\n",
    "print(\"Addition using lambda:\", add(5, 3))\n",
    "\n",
    "# Lambda with map\n",
    "nums = [1, 2, 3, 4]\n",
    "squares = list(map(lambda x: x**2, nums))\n",
    "print(\"Squares using map and lambda:\", squares)\n",
    "\n",
    "# Lambda with filter\n",
    "even_nums = list(filter(lambda x: x % 2 == 0, nums))\n",
    "print(\"Even numbers using filter and lambda:\", even_nums)\n",
    "\n",
    "# Lambda with sorted\n",
    "pairs = [(1, 3), (2, 2), (4, 1)]\n",
    "sorted_pairs = sorted(pairs, key=lambda x: x[1])\n",
    "print(\"Pairs sorted by second value:\", sorted_pairs)\n"
   ]
  }
 ],
 "metadata": {
  "kernelspec": {
   "display_name": "Python [conda env:base] *",
   "language": "python",
   "name": "conda-base-py"
  },
  "language_info": {
   "codemirror_mode": {
    "name": "ipython",
    "version": 3
   },
   "file_extension": ".py",
   "mimetype": "text/x-python",
   "name": "python",
   "nbconvert_exporter": "python",
   "pygments_lexer": "ipython3",
   "version": "3.12.7"
  }
 },
 "nbformat": 4,
 "nbformat_minor": 5
}
