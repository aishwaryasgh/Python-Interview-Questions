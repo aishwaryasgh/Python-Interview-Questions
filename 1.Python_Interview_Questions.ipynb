{
 "cells": [
  {
   "cell_type": "markdown",
   "id": "bd4071b3",
   "metadata": {},
   "source": [
    "# 1. Python Interview Questions and Answers"
   ]
  },
  {
   "cell_type": "markdown",
   "id": "29508dda",
   "metadata": {},
   "source": [
    "## 1. What is the difference between `is` and `==` in Python?\n",
    "\n",
    "`is` checks for identity (whether two variables point to the same object), while `==` checks for value equality."
   ]
  },
  {
   "cell_type": "code",
   "execution_count": 5,
   "id": "0d346812",
   "metadata": {},
   "outputs": [
    {
     "name": "stdout",
     "output_type": "stream",
     "text": [
      "True\n",
      "True\n",
      "False\n"
     ]
    }
   ],
   "source": [
    "a = [1, 2, 3]\n",
    "b = a\n",
    "c = [1, 2, 3]\n",
    "print(a is b)  # True\n",
    "print(a == c)  # True\n",
    "print(a is c)  # False"
   ]
  },
  {
   "cell_type": "markdown",
   "id": "1303048b",
   "metadata": {},
   "source": [
    "## 2. What are *args and **kwargs in functions?\n",
    "\n",
    "`*args` allows a function to accept any number of positional arguments.\n",
    "`**kwargs` allows a function to accept any number of keyword arguments."
   ]
  },
  {
   "cell_type": "code",
   "execution_count": 8,
   "id": "b81af03c",
   "metadata": {},
   "outputs": [
    {
     "name": "stdout",
     "output_type": "stream",
     "text": [
      "args: (1, 2, 3)\n",
      "kwargs: {'name': 'Alice', 'age': 25}\n"
     ]
    }
   ],
   "source": [
    "def demo_func(*args, **kwargs):\n",
    "    print(\"args:\", args)\n",
    "    print(\"kwargs:\", kwargs)\n",
    "\n",
    "demo_func(1, 2, 3, name=\"Alice\", age=25)"
   ]
  },
  {
   "cell_type": "markdown",
   "id": "f04231a8",
   "metadata": {},
   "source": [
    "## 3. What are list comprehensions?\n",
    "\n",
    "List comprehensions provide a concise way to create lists using a single line of code."
   ]
  },
  {
   "cell_type": "code",
   "execution_count": 11,
   "id": "96d93e78",
   "metadata": {},
   "outputs": [
    {
     "name": "stdout",
     "output_type": "stream",
     "text": [
      "[0, 1, 4, 9, 16]\n"
     ]
    }
   ],
   "source": [
    "squares = [x**2 for x in range(5)]\n",
    "print(squares)"
   ]
  },
  {
   "cell_type": "markdown",
   "id": "c1b995b5",
   "metadata": {},
   "source": [
    "## 4. What is a generator in Python?\n",
    "\n",
    "A generator is a function that yields items one at a time using the `yield` keyword, saving memory."
   ]
  },
  {
   "cell_type": "code",
   "execution_count": 14,
   "id": "7d73cd45",
   "metadata": {},
   "outputs": [
    {
     "name": "stdout",
     "output_type": "stream",
     "text": [
      "1\n",
      "2\n",
      "3\n",
      "4\n",
      "5\n"
     ]
    }
   ],
   "source": [
    "def count_up_to(n):\n",
    "    count = 1\n",
    "    while count <= n:\n",
    "        yield count\n",
    "        count += 1\n",
    "\n",
    "for num in count_up_to(5):\n",
    "    print(num)"
   ]
  },
  {
   "cell_type": "markdown",
   "id": "2243fd4e",
   "metadata": {},
   "source": [
    "## 5. How do you handle exceptions in Python?\n",
    "\n",
    "Python uses `try`, `except`, and optionally `finally` to handle exceptions."
   ]
  },
  {
   "cell_type": "code",
   "execution_count": 17,
   "id": "e638134c",
   "metadata": {},
   "outputs": [
    {
     "name": "stdout",
     "output_type": "stream",
     "text": [
      "Cannot divide by zero!\n",
      "Execution completed.\n"
     ]
    }
   ],
   "source": [
    "try:\n",
    "    result = 10 / 0\n",
    "except ZeroDivisionError:\n",
    "    print(\"Cannot divide by zero!\")\n",
    "finally:\n",
    "    print(\"Execution completed.\")"
   ]
  },
  {
   "cell_type": "code",
   "execution_count": null,
   "id": "53105415-a3dc-414b-8d84-c158296c92f3",
   "metadata": {},
   "outputs": [],
   "source": []
  },
  {
   "cell_type": "code",
   "execution_count": null,
   "id": "0e047332-4cab-44a0-b165-b250cad6cd16",
   "metadata": {},
   "outputs": [],
   "source": []
  }
 ],
 "metadata": {
  "kernelspec": {
   "display_name": "Python [conda env:base] *",
   "language": "python",
   "name": "conda-base-py"
  },
  "language_info": {
   "codemirror_mode": {
    "name": "ipython",
    "version": 3
   },
   "file_extension": ".py",
   "mimetype": "text/x-python",
   "name": "python",
   "nbconvert_exporter": "python",
   "pygments_lexer": "ipython3",
   "version": "3.12.7"
  }
 },
 "nbformat": 4,
 "nbformat_minor": 5
}
